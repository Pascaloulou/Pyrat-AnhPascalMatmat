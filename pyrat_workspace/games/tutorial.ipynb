{
 "cells": [
  {
   "cell_type": "markdown",
   "metadata": {},
   "source": [
    "<h1 style=\"background-color: gray;\n",
    "           color: black;\n",
    "           padding: 20px;\n",
    "           text-align: center;\">INFO</h1>\n",
    "\n",
    "This file is a tutorial on how to use the PyRat library. \\\n",
    "It provides multiple examples of how to customize a game, add players, etc. \\\n",
    "This should give you an overview of how to create your own games."
   ]
  },
  {
   "cell_type": "markdown",
   "metadata": {},
   "source": [
    "<h1 style=\"background-color: gray;\n",
    "           color: black;\n",
    "           padding: 20px;\n",
    "           text-align: center;\">IMPORTS</h1>\n",
    "\n",
    "First, let's import a few external libraries that we will use in this tutorial."
   ]
  },
  {
   "cell_type": "code",
   "execution_count": 2,
   "metadata": {},
   "outputs": [],
   "source": [
    "# External imports\n",
    "import sys\n",
    "import os\n",
    "import pprint"
   ]
  },
  {
   "cell_type": "markdown",
   "metadata": {},
   "source": [
    "Before we start, let's have a look at the contents of the PyRat library."
   ]
  },
  {
   "cell_type": "code",
   "execution_count": 3,
   "metadata": {},
   "outputs": [
    {
     "name": "stdout",
     "output_type": "stream",
     "text": [
      "['Action',\n",
      " 'BigHolesRandomMaze',\n",
      " 'FixedPlayer',\n",
      " 'Game',\n",
      " 'GameMode',\n",
      " 'GameState',\n",
      " 'Graph',\n",
      " 'HolesOnSideRandomMaze',\n",
      " 'Maze',\n",
      " 'MazeFromDict',\n",
      " 'MazeFromMatrix',\n",
      " 'Player',\n",
      " 'PlayerSkin',\n",
      " 'PygameRenderingEngine',\n",
      " 'RandomMaze',\n",
      " 'RandomMazeAlgorithm',\n",
      " 'RenderMode',\n",
      " 'RenderingEngine',\n",
      " 'ShellRenderingEngine',\n",
      " 'StartingLocation',\n",
      " 'UniformHolesRandomMaze',\n",
      " 'create_workspace',\n",
      " 'generate_documentation']\n"
     ]
    }
   ],
   "source": [
    "# Import the PyRat module\n",
    "import pyrat\n",
    "\n",
    "# Show its usable contents\n",
    "pprint.pprint([c for c in dir(pyrat) if not c.startswith(\"_\") and c != \"src\"])"
   ]
  },
  {
   "cell_type": "markdown",
   "metadata": {},
   "source": [
    "We will not need all elements in the library. \\\n",
    "Let's import everything we need in this tutorial.\n",
    "\n",
    "The most important class is `Game`, that handles most things related to PyRat games. \\\n",
    "It will be in charge of creating a maze, placing cheese, asking players for decisions, rendering, etc.\n",
    "\n",
    "Additionally, we will use the players defined in the `pyrat_workspace/players` subdirectory. \\\n",
    "By default, your workspace should contain three versions of a player playing at random. \\\n",
    "These are `Random1`, `Random2` and `Random3` below."
   ]
  },
  {
   "cell_type": "code",
   "execution_count": 3,
   "metadata": {},
   "outputs": [],
   "source": [
    "# Add needed directories to the path\n",
    "sys.path.append(os.path.join(\"..\", \"players\"))\n",
    "\n",
    "# PyRat imports\n",
    "from pyrat import Game, PlayerSkin, StartingLocation, RenderMode, GameMode, Action, RandomMazeAlgorithm\n",
    "from Random1 import Random1\n",
    "from Random2 import Random2\n",
    "from Random3 import Random3"
   ]
  },
  {
   "cell_type": "markdown",
   "metadata": {},
   "source": [
    "<h1 style=\"background-color: gray;\n",
    "           color: black;\n",
    "           padding: 20px;\n",
    "           text-align: center;\">CREATING A PYRAT GAME</h1>\n",
    "\n",
    "To start a PyRat game, you just need to instantiate an object of the class `Game`. \\\n",
    "Then, add at least one player instance to the game (here, an instance of `Random3`) using method `add_player` of the `game` object. \\\n",
    "Finally, call the `start` method of the game object.\n",
    "\n",
    "At this point, you should see a graphical window with the game inside. \\\n",
    "You can close it at any moment (use the cross, or escape key), this will not prevent the game from running.\n",
    "\n",
    "Once the game is over, the `start` method will return a dictionary containing game statistics. \\\n",
    "We will detail this later in this tutorial."
   ]
  },
  {
   "cell_type": "code",
   "execution_count": null,
   "metadata": {},
   "outputs": [],
   "source": [
    "# Instantiate a game\n",
    "game = Game()\n",
    "\n",
    "# Instantiate a player and add it to the game\n",
    "player = Random3()\n",
    "game.add_player(player)\n",
    "\n",
    "# Start the game\n",
    "stats = game.start()"
   ]
  },
  {
   "cell_type": "markdown",
   "metadata": {},
   "source": [
    "In a PyRat game, there can be either one player, as in the example we just did, or multiple players. \\\n",
    "In the latter case, players can be grouped in teams. \\\n",
    "The goal of a PyRat game is:\n",
    "* If one team:\n",
    "    * Catch all pieces of cheese.\n",
    "    * The game will end when all pieces of cheese have been caught.\n",
    "* If more than one team:\n",
    "    * Catch more pieces of cheese than the other teams.\n",
    "    * The game will end when no team can change its ranking."
   ]
  },
  {
   "cell_type": "markdown",
   "metadata": {},
   "source": [
    "<h1 style=\"background-color: gray;\n",
    "           color: black;\n",
    "           padding: 20px;\n",
    "           text-align: center;\">ADDING PLAYERS TO A PYRAT GAME</h1>\n",
    "\n",
    "Let us customize the game by creating a match between two teams. \\\n",
    "To specify teams, we are going to precise the `team` argument in the `add_player` method.\n",
    "\n",
    "By default, the game will distinguish the teams with distinct colors. \\\n",
    "For a better visualization, we can also give a distinct visual aspect to the players. \\\n",
    "To do so, we can specify the `skin` argument of a player, by giving it one value in the `PlayerSkin` enumeration.\n",
    "\n",
    "Also, by default, players have the name of the class that define them (_e.g._, an instance of `Random1` will be named \"Random1\"). \\\n",
    "We can also customize this with the `name` argument of the player's constructor."
   ]
  },
  {
   "cell_type": "code",
   "execution_count": null,
   "metadata": {},
   "outputs": [],
   "source": [
    "# Instantiate a game\n",
    "game = Game()\n",
    "\n",
    "# Instantiate two players and add them to the game in a team named \"Team 1\"\n",
    "# In Python, we can pass the arguments by name, so we can give them in any order\n",
    "# This is done by specifying argument_name=argument_value when calling the function\n",
    "player_1 = Random1(skin=PlayerSkin.RAT, name=\"Rat\")\n",
    "player_2 = Random2(skin=PlayerSkin.PYTHON, name=\"Python\")\n",
    "game.add_player(player_1, team=\"Team 1\")\n",
    "game.add_player(player_2, team=\"Team 1\")\n",
    "\n",
    "# Instantiate one player and add it to the game in another team named \"Team 2\"\n",
    "# In Python, arguments can also be called without having to specity their names\n",
    "# In this case, the order of the arguments is important, and should match the order of the arguments in the function definition\n",
    "player_3 = Random3(\"Ghost\", PlayerSkin.GHOST)\n",
    "game.add_player(player_3, \"Team 2\")\n",
    "\n",
    "# Start the game\n",
    "stats = game.start()"
   ]
  },
  {
   "cell_type": "markdown",
   "metadata": {},
   "source": [
    "As you may have noticed, players all start in the middle of the maze by default. \\\n",
    "This can be customized by setting the `location` argument of the `add_player` method. \\\n",
    "There are a few pre-defined locations in the `StartingLocation` enumeration. \\\n",
    "You can also specify the number of the cell where you want the player to start. \\\n",
    "If the asked location does not exist in the maze, the player will start at the closest existing location.\n",
    "\n",
    "Let us create a game with a few players to illustrate starting player locations."
   ]
  },
  {
   "cell_type": "code",
   "execution_count": null,
   "metadata": {},
   "outputs": [],
   "source": [
    "# Instantiate a game\n",
    "game = Game()\n",
    "\n",
    "# Player 1 will start at the top left corner of the maze\n",
    "# Note that since we do not specify the name of the team, we have to use named arguments, as the add_player function expects the team name as the second argument\n",
    "player_1 = Random3(\"TL\")\n",
    "game.add_player(player_1, location=StartingLocation.TOP_LEFT)\n",
    "\n",
    "# Player 2 will start at the top right corner of the maze\n",
    "player_2 = Random3(\"TR\")\n",
    "game.add_player(player_2, location=StartingLocation.TOP_RIGHT)\n",
    "\n",
    "# Player 3 will start at the bottom left corner of the maze\n",
    "player_3 = Random3(\"BL\")\n",
    "game.add_player(player_3, location=StartingLocation.BOTTOM_LEFT)\n",
    "\n",
    "# Player 4 will start at the bottom right corner of the maze\n",
    "player_4 = Random3(\"BR\")\n",
    "game.add_player(player_4, location=StartingLocation.BOTTOM_RIGHT)\n",
    "\n",
    "# Player 5 will start at the center of the maze\n",
    "# Since this is the default location, it can also be omitted\n",
    "player_5 = Random3(\"C\")\n",
    "game.add_player(player_5, location=StartingLocation.CENTER)\n",
    "\n",
    "# Player 6 will start at a random location\n",
    "player_6 = Random3(\"R\")\n",
    "game.add_player(player_6, location=StartingLocation.RANDOM)\n",
    "\n",
    "# Player 7 will start at the same location as the previously added player\n",
    "# I.e., it will start at the same location pas player 6\n",
    "player_7 = Random3(\"S\")\n",
    "game.add_player(player_7, location=StartingLocation.SAME)\n",
    "\n",
    "# Player 8 will start on cell 42\n",
    "player_8 = Random3(\"42\")\n",
    "game.add_player(player_8, location=42)\n",
    "\n",
    "# Start the game\n",
    "stats = game.start()"
   ]
  },
  {
   "cell_type": "markdown",
   "metadata": {},
   "source": [
    "When a game is instantiated, the maze is directly generated. \\\n",
    "You can thus use this information to place players if you want. \\\n",
    "To do so, just acces the `game.maze` attribute.\n",
    "\n",
    "Pieces of cheese are placed when the method `start` is called, so you cannot know where they will appear before starting the game."
   ]
  },
  {
   "cell_type": "code",
   "execution_count": 4,
   "metadata": {},
   "outputs": [
    {
     "name": "stdout",
     "output_type": "stream",
     "text": [
      "Maze object:\n",
      "|  Width: 15\n",
      "|  Height: 13\n",
      "|  Vertices: [0, 1, 3, 6, 7, 8, 9, 10, 11, 12, 13, 14, 15, 16, 21, 22, 23, 24, 25, 26, 27, 28, 29, 30, 31, 32, 33, 34, 35, 36, 37, 38, 39, 40, 41, 42, 43, 44, 45, 46, 47, 48, 49, 50, 51, 52, 53, 54, 56, 57, 58, 59, 61, 62, 63, 64, 65, 66, 67, 68, 69, 70, 71, 72, 73, 74, 75, 76, 77, 78, 79, 80, 81, 82, 83, 84, 85, 86, 87, 88, 89, 90, 91, 92, 93, 94, 95, 96, 97, 98, 99, 100, 101, 102, 104, 105, 106, 107, 108, 109, 110, 112, 113, 114, 115, 116, 117, 120, 121, 122, 128, 129, 130, 131, 132, 135, 137, 138, 139, 145, 146, 147, 148, 149, 150, 152, 153, 154, 159, 160, 161, 162, 163, 164, 165, 166, 167, 168, 169, 170, 173, 174, 175, 180, 181, 182, 183, 184, 185, 186, 187, 188, 189, 190, 111, 2]\n",
      "|  Adjacency matrix:\n",
      "|  |  0 <-- (1) --> 1\n",
      "|  |  1 <-- (1) --> 16\n",
      "|  |  1 <-- (1) --> 2\n",
      "|  |  3 <-- (1) --> 2\n",
      "|  |  6 <-- (1) --> 7\n",
      "|  |  6 <-- (1) --> 21\n",
      "|  |  7 <-- (1) --> 8\n",
      "|  |  8 <-- (1) --> 23\n",
      "|  |  8 <-- (1) --> 9\n",
      "|  |  9 <-- (1) --> 10\n",
      "|  |  9 <-- (1) --> 24\n",
      "|  |  10 <-- (9) --> 11\n",
      "|  |  11 <-- (1) --> 12\n",
      "|  |  11 <-- (1) --> 26\n",
      "|  |  12 <-- (1) --> 13\n",
      "|  |  12 <-- (9) --> 27\n",
      "|  |  13 <-- (1) --> 14\n",
      "|  |  14 <-- (9) --> 29\n",
      "|  |  15 <-- (1) --> 30\n",
      "|  |  15 <-- (1) --> 16\n",
      "|  |  16 <-- (8) --> 31\n",
      "|  |  21 <-- (1) --> 36\n",
      "|  |  22 <-- (1) --> 37\n",
      "|  |  22 <-- (4) --> 23\n",
      "|  |  23 <-- (1) --> 24\n",
      "|  |  24 <-- (1) --> 25\n",
      "|  |  24 <-- (6) --> 39\n",
      "|  |  25 <-- (1) --> 40\n",
      "|  |  27 <-- (4) --> 28\n",
      "|  |  28 <-- (1) --> 29\n",
      "|  |  28 <-- (1) --> 43\n",
      "|  |  29 <-- (1) --> 44\n",
      "|  |  30 <-- (1) --> 31\n",
      "|  |  30 <-- (9) --> 45\n",
      "|  |  31 <-- (1) --> 32\n",
      "|  |  32 <-- (1) --> 47\n",
      "|  |  32 <-- (1) --> 33\n",
      "|  |  33 <-- (1) --> 34\n",
      "|  |  33 <-- (1) --> 48\n",
      "|  |  34 <-- (1) --> 35\n",
      "|  |  35 <-- (6) --> 36\n",
      "|  |  35 <-- (8) --> 50\n",
      "|  |  36 <-- (1) --> 37\n",
      "|  |  36 <-- (1) --> 51\n",
      "|  |  37 <-- (1) --> 38\n",
      "|  |  37 <-- (1) --> 52\n",
      "|  |  38 <-- (1) --> 39\n",
      "|  |  38 <-- (6) --> 53\n",
      "|  |  40 <-- (1) --> 41\n",
      "|  |  41 <-- (1) --> 42\n",
      "|  |  41 <-- (5) --> 56\n",
      "|  |  42 <-- (1) --> 57\n",
      "|  |  43 <-- (1) --> 44\n",
      "|  |  43 <-- (5) --> 58\n",
      "|  |  44 <-- (1) --> 59\n",
      "|  |  45 <-- (4) --> 46\n",
      "|  |  46 <-- (1) --> 61\n",
      "|  |  46 <-- (4) --> 47\n",
      "|  |  47 <-- (9) --> 48\n",
      "|  |  48 <-- (1) --> 49\n",
      "|  |  48 <-- (1) --> 63\n",
      "|  |  49 <-- (1) --> 50\n",
      "|  |  49 <-- (9) --> 64\n",
      "|  |  50 <-- (1) --> 65\n",
      "|  |  51 <-- (1) --> 66\n",
      "|  |  52 <-- (1) --> 53\n",
      "|  |  54 <-- (1) --> 69\n",
      "|  |  56 <-- (1) --> 71\n",
      "|  |  57 <-- (1) --> 58\n",
      "|  |  57 <-- (1) --> 72\n",
      "|  |  58 <-- (5) --> 73\n",
      "|  |  58 <-- (8) --> 59\n",
      "|  |  59 <-- (1) --> 74\n",
      "|  |  61 <-- (1) --> 76\n",
      "|  |  62 <-- (1) --> 63\n",
      "|  |  63 <-- (1) --> 78\n",
      "|  |  64 <-- (1) --> 79\n",
      "|  |  64 <-- (1) --> 65\n",
      "|  |  65 <-- (1) --> 80\n",
      "|  |  66 <-- (5) --> 81\n",
      "|  |  66 <-- (5) --> 67\n",
      "|  |  67 <-- (1) --> 68\n",
      "|  |  68 <-- (1) --> 69\n",
      "|  |  68 <-- (5) --> 83\n",
      "|  |  69 <-- (1) --> 84\n",
      "|  |  70 <-- (1) --> 85\n",
      "|  |  71 <-- (1) --> 86\n",
      "|  |  71 <-- (1) --> 72\n",
      "|  |  72 <-- (1) --> 73\n",
      "|  |  72 <-- (1) --> 87\n",
      "|  |  74 <-- (1) --> 89\n",
      "|  |  75 <-- (1) --> 90\n",
      "|  |  76 <-- (1) --> 91\n",
      "|  |  77 <-- (1) --> 78\n",
      "|  |  78 <-- (1) --> 79\n",
      "|  |  78 <-- (1) --> 93\n",
      "|  |  79 <-- (1) --> 80\n",
      "|  |  80 <-- (1) --> 95\n",
      "|  |  80 <-- (4) --> 81\n",
      "|  |  81 <-- (5) --> 82\n",
      "|  |  82 <-- (7) --> 83\n",
      "|  |  83 <-- (1) --> 84\n",
      "|  |  83 <-- (1) --> 98\n",
      "|  |  84 <-- (1) --> 99\n",
      "|  |  85 <-- (1) --> 100\n",
      "|  |  86 <-- (1) --> 87\n",
      "|  |  86 <-- (1) --> 101\n",
      "|  |  87 <-- (1) --> 88\n",
      "|  |  87 <-- (1) --> 102\n",
      "|  |  88 <-- (1) --> 89\n",
      "|  |  89 <-- (1) --> 104\n",
      "|  |  90 <-- (1) --> 91\n",
      "|  |  90 <-- (4) --> 105\n",
      "|  |  91 <-- (1) --> 92\n",
      "|  |  91 <-- (1) --> 106\n",
      "|  |  92 <-- (1) --> 93\n",
      "|  |  92 <-- (1) --> 107\n",
      "|  |  93 <-- (1) --> 94\n",
      "|  |  93 <-- (9) --> 108\n",
      "|  |  94 <-- (1) --> 109\n",
      "|  |  95 <-- (9) --> 110\n",
      "|  |  95 <-- (5) --> 96\n",
      "|  |  96 <-- (7) --> 97\n",
      "|  |  96 <-- (8) --> 111\n",
      "|  |  97 <-- (1) --> 98\n",
      "|  |  98 <-- (1) --> 99\n",
      "|  |  98 <-- (1) --> 113\n",
      "|  |  99 <-- (1) --> 100\n",
      "|  |  99 <-- (1) --> 114\n",
      "|  |  100 <-- (1) --> 101\n",
      "|  |  100 <-- (1) --> 115\n",
      "|  |  101 <-- (1) --> 102\n",
      "|  |  102 <-- (1) --> 117\n",
      "|  |  105 <-- (1) --> 106\n",
      "|  |  106 <-- (1) --> 121\n",
      "|  |  106 <-- (1) --> 107\n",
      "|  |  107 <-- (1) --> 108\n",
      "|  |  107 <-- (9) --> 122\n",
      "|  |  108 <-- (9) --> 109\n",
      "|  |  109 <-- (1) --> 110\n",
      "|  |  112 <-- (1) --> 111\n",
      "|  |  113 <-- (1) --> 114\n",
      "|  |  114 <-- (1) --> 115\n",
      "|  |  114 <-- (1) --> 129\n",
      "|  |  115 <-- (1) --> 116\n",
      "|  |  116 <-- (1) --> 117\n",
      "|  |  117 <-- (1) --> 132\n",
      "|  |  120 <-- (1) --> 121\n",
      "|  |  121 <-- (1) --> 122\n",
      "|  |  122 <-- (1) --> 137\n",
      "|  |  128 <-- (5) --> 129\n",
      "|  |  129 <-- (5) --> 130\n",
      "|  |  130 <-- (1) --> 131\n",
      "|  |  130 <-- (1) --> 145\n",
      "|  |  131 <-- (1) --> 146\n",
      "|  |  132 <-- (1) --> 147\n",
      "|  |  135 <-- (1) --> 150\n",
      "|  |  137 <-- (1) --> 138\n",
      "|  |  137 <-- (9) --> 152\n",
      "|  |  138 <-- (1) --> 139\n",
      "|  |  139 <-- (1) --> 154\n",
      "|  |  146 <-- (1) --> 147\n",
      "|  |  148 <-- (1) --> 149\n",
      "|  |  148 <-- (1) --> 163\n",
      "|  |  149 <-- (1) --> 164\n",
      "|  |  150 <-- (1) --> 165\n",
      "|  |  152 <-- (1) --> 153\n",
      "|  |  152 <-- (1) --> 167\n",
      "|  |  154 <-- (9) --> 169\n",
      "|  |  159 <-- (1) --> 160\n",
      "|  |  159 <-- (1) --> 174\n",
      "|  |  160 <-- (1) --> 175\n",
      "|  |  160 <-- (5) --> 161\n",
      "|  |  161 <-- (1) --> 162\n",
      "|  |  162 <-- (1) --> 163\n",
      "|  |  163 <-- (1) --> 164\n",
      "|  |  165 <-- (1) --> 166\n",
      "|  |  165 <-- (1) --> 180\n",
      "|  |  166 <-- (1) --> 181\n",
      "|  |  167 <-- (1) --> 168\n",
      "|  |  167 <-- (1) --> 182\n",
      "|  |  168 <-- (1) --> 169\n",
      "|  |  168 <-- (1) --> 183\n",
      "|  |  169 <-- (1) --> 170\n",
      "|  |  170 <-- (1) --> 185\n",
      "|  |  173 <-- (1) --> 188\n",
      "|  |  174 <-- (1) --> 189\n",
      "|  |  175 <-- (1) --> 190\n",
      "|  |  180 <-- (1) --> 181\n",
      "|  |  181 <-- (1) --> 182\n",
      "|  |  182 <-- (1) --> 183\n",
      "|  |  184 <-- (1) --> 185\n",
      "|  |  185 <-- (1) --> 186\n",
      "|  |  186 <-- (1) --> 187\n",
      "|  |  187 <-- (6) --> 188\n",
      "|  |  188 <-- (1) --> 189\n",
      "|  |  189 <-- (1) --> 190\n"
     ]
    }
   ],
   "source": [
    "# Instantiate a game and show its string representation\n",
    "game = Game()\n",
    "print(game.maze)\n",
    "\n",
    "# Instantiate a player and add it to the game\n",
    "player = Random3()\n",
    "game.add_player(player)\n",
    "\n",
    "stats=game.start()"
   ]
  },
  {
   "cell_type": "markdown",
   "metadata": {},
   "source": [
    "<h1 style=\"background-color: gray;\n",
    "           color: black;\n",
    "           padding: 20px;\n",
    "           text-align: center;\">CUSTOMIZING THE GAME AND THE MAZE</h1>\n",
    "\n",
    "As you have seen, by default, a PyRat game defines a maze with certain characteristics:\n",
    "* The maze has a given width (in number of cells).\n",
    "* The maze has a given height (in number of cells).\n",
    "* Not all cells are accessible (i.e., the maze is not necessarily a rectangle and can contain holes).\n",
    "* Some cells are separated with mud, indicating that more than one move is necessary to go from one to the other.\n",
    "* There is a given number of walls.\n",
    "* There are multiple pieces of cheese in the maze.\n",
    "\n",
    "All these elements (and a few other ones) can be customized when instantiating the game. \\\n",
    "For instance, let us change the dimensions of the maze and the number of pieces of cheese."
   ]
  },
  {
   "cell_type": "code",
   "execution_count": null,
   "metadata": {},
   "outputs": [],
   "source": [
    "# Instantiate a game with specified arguments\n",
    "game = Game(maze_width=10, maze_height=10, nb_cheese=1)\n",
    "\n",
    "# Instantiate a player and add it to the game\n",
    "player = Random3()\n",
    "game.add_player(player)\n",
    "\n",
    "# Start the game\n",
    "stats = game.start()"
   ]
  },
  {
   "cell_type": "markdown",
   "metadata": {},
   "source": [
    "Equivalently, it may be more practical to define the game configuration in a dictionary, and to use the dictionary contents as arguments of the game constructor. \\\n",
    "Note that in Python, as in most programming languages, the convention is to write constants with capital letters."
   ]
  },
  {
   "cell_type": "code",
   "execution_count": null,
   "metadata": {},
   "outputs": [],
   "source": [
    "# Customize the game elements\n",
    "CONFIG = {\"maze_width\": 10,\n",
    "          \"maze_height\": 10,\n",
    "          \"nb_cheese\": 1}\n",
    "\n",
    "# Instantiate a game with specified arguments\n",
    "game = Game(**CONFIG)\n",
    "\n",
    "# Instantiate a player and add it to the game\n",
    "player = Random3()\n",
    "game.add_player(player)\n",
    "\n",
    "# Start the game\n",
    "stats = game.start()"
   ]
  },
  {
   "cell_type": "markdown",
   "metadata": {},
   "source": [
    "So, what are the arguments we can set? \\\n",
    "Let us have a look at the definition of the constructor of class `Game`."
   ]
  },
  {
   "cell_type": "code",
   "execution_count": null,
   "metadata": {},
   "outputs": [],
   "source": [
    "# Print the documentation of the constructor of the Game class\n",
    "help(Game.__init__)"
   ]
  },
  {
   "cell_type": "markdown",
   "metadata": {},
   "source": [
    "All these arguments can be set to customize a PyRat game at will. \\\n",
    "Here are the values they take by default, _i.e._, this is what defines a default PyRat game when no arguments are specified. \\\n",
    "These values are defined as class attributes of the `Game` class and all start with `DEFAULT`."
   ]
  },
  {
   "cell_type": "code",
   "execution_count": null,
   "metadata": {},
   "outputs": [],
   "source": [
    "# Show default values of the Game class constructor\n",
    "for value in Game.__dict__:\n",
    "    if value.startswith(\"DEFAULT\"):\n",
    "        print(\"Game.%s =\" % value, Game.__dict__[value] if type(Game.__dict__[value]) != str else \"\\\"%s\\\"\" % Game.__dict__[value])"
   ]
  },
  {
   "cell_type": "markdown",
   "metadata": {},
   "source": [
    "Some arguments can only take a particular value. \\\n",
    "This is the case for `render_mode`, that can only take a valued specified in the `RenderMode` enumeration. \\\n",
    "Here are the possible rendering modes."
   ]
  },
  {
   "cell_type": "code",
   "execution_count": null,
   "metadata": {},
   "outputs": [],
   "source": [
    "# Show the possible values of the RenderMode enumeration\n",
    "print(help(RenderMode))"
   ]
  },
  {
   "cell_type": "markdown",
   "metadata": {},
   "source": [
    "This is also the case for the `game_mode`. \\\n",
    "Here are the possible values of the `GameMode` enumeration."
   ]
  },
  {
   "cell_type": "code",
   "execution_count": null,
   "metadata": {},
   "outputs": [],
   "source": [
    "# Show the possible values of the GameMode enumeration\n",
    "print(help(GameMode))"
   ]
  },
  {
   "cell_type": "markdown",
   "metadata": {},
   "source": [
    "Finally, you can also choose the algorithm used to generate the random maze. \\\n",
    "Here are the possible values of the `RandomMazeAlgorithm` enumeration."
   ]
  },
  {
   "cell_type": "code",
   "execution_count": null,
   "metadata": {},
   "outputs": [],
   "source": [
    "# Show the possible values of the RandomMazeAlgorithm enumeration\n",
    "print(help(RandomMazeAlgorithm))"
   ]
  },
  {
   "cell_type": "markdown",
   "metadata": {},
   "source": [
    "Not all arguments are compatible though. \\\n",
    "For instance, you cannot both specify a fixed list of pieces of cheese with `fixed_cheese`, and set `nb_cheese`, as the latter is used for random placement. \\\n",
    "If you specify an invalid configuration, you should get an error, either when instantiating the game, or when calling the `start` method."
   ]
  },
  {
   "cell_type": "code",
   "execution_count": null,
   "metadata": {},
   "outputs": [],
   "source": [
    "# Invalid configuration\n",
    "CONFIG = {\"fixed_cheese\": [1, 2, 3],\n",
    "          \"nb_cheese\": 3}\n",
    "\n",
    "# Instantiate a game with specified arguments\n",
    "game = Game(**CONFIG)"
   ]
  },
  {
   "cell_type": "markdown",
   "metadata": {},
   "source": [
    "A few particular arguments you can set in the game are random seeds. \\\n",
    "These are used to reproduce games in the same mazes. \\\n",
    "In details, if you set a value for `random_seed_maze`, the maze will be the same if you restart a game with that same seed later. \\\n",
    "If you set a value for `random_seed_cheese`, the locations of pieces of cheese will be the same if you restart a game with that same seed later. \\\n",
    "If you set a value for `random_seed_players`, the locations of players added with `location=StartingLocation.CENTER` will be the same if you restart a game with that same seed later. \\\n",
    "A master seed `random_seed` can be set to bind them all."
   ]
  },
  {
   "cell_type": "code",
   "execution_count": null,
   "metadata": {},
   "outputs": [],
   "source": [
    "# Customize the game elements\n",
    "CONFIG = {\"maze_width\": 10,\n",
    "          \"maze_height\": 10,\n",
    "          \"nb_cheese\": 1,\n",
    "          \"random_seed\": 42}\n",
    "\n",
    "# Instantiate a game as usual\n",
    "game = Game(**CONFIG)\n",
    "player = Random2()\n",
    "game.add_player(player)\n",
    "stats = game.start()\n",
    "\n",
    "# Create a new game with the same random seed\n",
    "game = Game(**CONFIG)\n",
    "player = Random3()\n",
    "game.add_player(player)\n",
    "stats = game.start()"
   ]
  },
  {
   "cell_type": "markdown",
   "metadata": {},
   "source": [
    "Once a game is over, you can reset it if you want. \\\n",
    "In that case, you can call the `reset` method of the `game` object before calling its `start` method again. \\\n",
    "The `reset` method can keep the players (by default), or remove them if you want to add new ones.\n",
    "\n",
    "If you have set a random seed in the configuration, the same seed will be used again for the reset game."
   ]
  },
  {
   "cell_type": "code",
   "execution_count": null,
   "metadata": {},
   "outputs": [],
   "source": [
    "# Customize the game elements\n",
    "CONFIG = {\"maze_width\": 10,\n",
    "          \"maze_height\": 10,\n",
    "          \"nb_cheese\": 1,\n",
    "          \"random_seed\": 42}\n",
    "\n",
    "# Instantiate a game as usual\n",
    "game = Game(**CONFIG)\n",
    "player_1 = Random2()\n",
    "game.add_player(player_1)\n",
    "stats = game.start()\n",
    "\n",
    "# Reset the game, keeping the same player\n",
    "game.reset()\n",
    "stats = game.start()\n",
    "\n",
    "# Reset the game, removing the player\n",
    "game.reset(False)\n",
    "player_2 = Random3()\n",
    "game.add_player(player_2)\n",
    "stats = game.start()"
   ]
  },
  {
   "cell_type": "markdown",
   "metadata": {},
   "source": [
    "<h1 style=\"background-color: gray;\n",
    "           color: black;\n",
    "           padding: 20px;\n",
    "           text-align: center;\">END OF GAME STATISTICS</h1>\n",
    "\n",
    "As mentioned earlier, when a game is completed, the `start` method returns a dictionary of statistics that summarize what happened during the game. \\\n",
    "Let us have a look at its contents, by creating a game with multiple teams and players, using all we have seen above.\n",
    "\n",
    "The `stats` dictionary contains the following entries:\n",
    "* `stats[\"turns\"]`: The number of turns of the game.\n",
    "* `stats[\"players\"]`: A dictionary for each player with name `\"player_name\"`, that contains the following entries:\n",
    "    * `stats[\"players\"][\"player_name\"][\"actions\"]`: A dictionary giving the number of times each action was chosen by the player, the number of turns it went into a wall, spend into mud, etc.\n",
    "    * `stats[\"players\"][\"player_name\"][\"score\"]`: The final score of the player.\n",
    "    * `stats[\"players\"][\"player_name\"][\"preprocessing_duration\"]`: The time spent in the `preprocessing` function of the player.\n",
    "    * `stats[\"players\"][\"player_name\"][\"turn_durations\"]`: A list of times spent in the `turn` function of the player."
   ]
  },
  {
   "cell_type": "code",
   "execution_count": null,
   "metadata": {},
   "outputs": [],
   "source": [
    "# Customize the game elements\n",
    "CONFIG = {\"maze_width\": 10,\n",
    "          \"maze_height\": 10,\n",
    "          \"mud_percentage\": 30.0,\n",
    "          \"mud_range\": (2, 7),\n",
    "          \"wall_percentage\": 50.0,\n",
    "          \"cell_percentage\": 90.0,\n",
    "          \"nb_cheese\": 20}\n",
    "\n",
    "# Instantiate a game with specified arguments\n",
    "game = Game(**CONFIG)\n",
    "\n",
    "# Instantiate and register players\n",
    "# Here we make multiple teams of players, each team having a different type of player\n",
    "# Team \"Random 1\" will start at the center of the maze (default)\n",
    "team_1_name = \"Random 1\"\n",
    "team_1_skin = PlayerSkin.RAT\n",
    "for i in range(4):\n",
    "    player_name = \"P \" + str(i + 1)\n",
    "    player = Random1(player_name, team_1_skin)\n",
    "    game.add_player(player, team_1_name)\n",
    "\n",
    "# Team \"Random 2\" will start at the top left corner\n",
    "# If such a cell does not exist, the players will start at the closest cell\n",
    "team_2_name = \"Random 2\"\n",
    "team_2_skin = PlayerSkin.PYTHON\n",
    "team_2_start_location = StartingLocation.TOP_LEFT\n",
    "for i in range(3):\n",
    "    player_name = \"P \" + str(i + 5)\n",
    "    player = Random2(player_name, team_2_skin)\n",
    "    game.add_player(player, team_2_name, team_2_start_location)\n",
    "\n",
    "# Team \"Random 3\" will start at a random location\n",
    "# Location \"same\" indicates that the player will start at the same location as the previous player\n",
    "team_3_name = \"Random 3\"\n",
    "team_3_skin = PlayerSkin.GHOST\n",
    "team_3_start_location = [StartingLocation.RANDOM, StartingLocation.SAME]\n",
    "for i in range(2):\n",
    "    player_name = \"P \" + str(i + 8)\n",
    "    player = Random3(player_name, team_3_skin)\n",
    "    game.add_player(player, team_3_name, team_3_start_location[i])\n",
    "\n",
    "# Start the game and show statistics when over\n",
    "stats = game.start()\n",
    "pprint.pprint(stats)"
   ]
  },
  {
   "cell_type": "markdown",
   "metadata": {},
   "source": [
    "<h1 style=\"background-color: gray;\n",
    "           color: black;\n",
    "           padding: 20px;\n",
    "           text-align: center;\">CREATING A CUSTOM PLAYER</h1>\n",
    "\n",
    "There are very few things to do in order to create a player for a PyRat game. \\\n",
    "Here are the essential elements:\n",
    "* A PyRat player should be a class that inherits from class `Player`.\n",
    "* It should have a constructor (_i.e._, a method `__init__`) that will be executed when the class is instantiated.\n",
    "* It should have a method `turn(self, maze, game_state)` that returns an action, as defined in the `Action` enumeration.\n",
    "* Optionally, it can have a method `preprocessing(self, maze, game_state)`.\n",
    "* Optionally, it can have a method `postprocessing(self, maze, game_state, stats)`.\n",
    "\n",
    "Here are the possible actions that can be returned by the `turn` function."
   ]
  },
  {
   "cell_type": "code",
   "execution_count": null,
   "metadata": {},
   "outputs": [],
   "source": [
    "# Show the possible values of the Action enumeration\n",
    "print(help(Action))"
   ]
  },
  {
   "cell_type": "markdown",
   "metadata": {},
   "source": [
    "The `TemplatePlayer.py` file in the `pyrat_workspace/players` subdirectory provides a code that can be used as a basis for developing your own programs. \\\n",
    "To write your own program, proceed as follows:\n",
    "- Copy that template file, and rename it to the name you want (*e.g.*, `MyCustomPlayer.py`).\n",
    "- Rename the class to the name you want (*e.g.*, `MyCustomPlayer`).\n",
    "- Add the attributes and methods you need.\n",
    "- Change the contents of the `preprocessing`, `turn` and `postprocessing` functions, to match your needs.\n",
    "- Optionally, you can delete methods `preprocessing` and `postprocessing` if you don't use them.\n",
    "\n",
    "Then, in order to use your player in a game, just instantiate it and add it to the game, as before."
   ]
  },
  {
   "cell_type": "code",
   "execution_count": null,
   "metadata": {},
   "outputs": [],
   "source": [
    "# Import your player from your file\n",
    "# You may have to restart the kernel of the notebook\n",
    "from MyCustomPlayer import MyCustomPlayer\n",
    "\n",
    "# Customize the game elements\n",
    "CONFIG = {\"maze_width\": 5,\n",
    "          \"maze_height\": 5,\n",
    "          \"nb_cheese\": 1}\n",
    "\n",
    "# Instantiate a game with specified arguments\n",
    "game = Game(**CONFIG)\n",
    "\n",
    "# Instantiate a player and add it to the game\n",
    "player = MyCustomPlayer()\n",
    "game.add_player(player)\n",
    "\n",
    "# Start the game\n",
    "stats = game.start()"
   ]
  },
  {
   "cell_type": "markdown",
   "metadata": {},
   "source": [
    "Have a look at the provided files in the `pyrat_workspace/players` subdirectory for multiple examples of PyRat players. \\\n",
    "Your players should be stored in Python files, just like provided examples, to use them easily from scripts that create games."
   ]
  }
 ],
 "metadata": {
  "kernelspec": {
   "display_name": "Python 3",
   "language": "python",
   "name": "python3"
  },
  "language_info": {
   "codemirror_mode": {
    "name": "ipython",
    "version": 3
   },
   "file_extension": ".py",
   "mimetype": "text/x-python",
   "name": "python",
   "nbconvert_exporter": "python",
   "pygments_lexer": "ipython3",
   "version": "3.10.2"
  }
 },
 "nbformat": 4,
 "nbformat_minor": 2
}
